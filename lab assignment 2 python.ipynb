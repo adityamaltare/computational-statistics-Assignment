{
 "cells": [
  {
   "cell_type": "markdown",
   "metadata": {},
   "source": [
    "# python program to convert month name to a number of days\n"
   ]
  },
  {
   "cell_type": "code",
   "execution_count": 7,
   "metadata": {},
   "outputs": [
    {
     "name": "stdout",
     "output_type": "stream",
     "text": [
      "choose any month: January,february,march,april, may,june,july,august,september,october,november,december\n",
      "enter the name of month:april\n",
      "The no. of days in april are 30 days.\n"
     ]
    }
   ],
   "source": [
    "months=['January', 'february', 'march', 'april', 'may', 'june', 'july', 'august', 'september', 'october', 'november', 'december']\n",
    "days=['31', '28/29', '31', '30', '31', '30', '31', '31', '30', '31', '30', '31']\n",
    "print(\"choose any month: January,february,march,april, may,june,july,august,september,october,november,december\")\n",
    "\n",
    "month=input(\"enter the name of month:\")\n",
    "value=months.index(month)\n",
    "print(\"The no. of days in \" + month + \" are \" +days[value] + \" days.\")"
   ]
  },
  {
   "cell_type": "code",
   "execution_count": null,
   "metadata": {},
   "outputs": [],
   "source": []
  },
  {
   "cell_type": "code",
   "execution_count": null,
   "metadata": {},
   "outputs": [],
   "source": []
  }
 ],
 "metadata": {
  "kernelspec": {
   "display_name": "Python 3",
   "language": "python",
   "name": "python3"
  },
  "language_info": {
   "codemirror_mode": {
    "name": "ipython",
    "version": 3
   },
   "file_extension": ".py",
   "mimetype": "text/x-python",
   "name": "python",
   "nbconvert_exporter": "python",
   "pygments_lexer": "ipython3",
   "version": "3.8.3"
  }
 },
 "nbformat": 4,
 "nbformat_minor": 4
}
