{
 "cells": [
  {
   "cell_type": "markdown",
   "metadata": {},
   "source": [
    "# python program to convert month name to a number of days\n"
   ]
  },
  {
   "cell_type": "code",
   "execution_count": 1,
   "metadata": {},
   "outputs": [
    {
     "name": "stdout",
     "output_type": "stream",
     "text": [
      "choose any month: January,february,march,april, may,june,july,august,september,october,november,december\n",
      "enter the name of month:march\n",
      "no. of days: 31 days\n"
     ]
    }
   ],
   "source": [
    "print(\"choose any month: January,february,march,april, may,june,july,august,september,october,november,december\")\n",
    "month=input(\"enter the name of month:\")\n",
    "\n",
    "if month==\"february\":\n",
    "    print(\"no. of days: 28/29 days\")\n",
    "elif month in (\"april\",\"june\",\"september\",\"november\"):  \n",
    "    print(\"no. of days: 30 days\")\n",
    "elif month in (\"January\",\"march\",\"may\",\"july\",\"august\",\"october\",\"december\"):\n",
    "    print(\"no. of days: 31 days\")\n",
    "else:\n",
    "    print(\"wrong month entered\")"
   ]
  }
 ],
 "metadata": {
  "kernelspec": {
   "display_name": "Python 3",
   "language": "python",
   "name": "python3"
  },
  "language_info": {
   "codemirror_mode": {
    "name": "ipython",
    "version": 3
   },
   "file_extension": ".py",
   "mimetype": "text/x-python",
   "name": "python",
   "nbconvert_exporter": "python",
   "pygments_lexer": "ipython3",
   "version": "3.8.3"
  }
 },
 "nbformat": 4,
 "nbformat_minor": 4
}
